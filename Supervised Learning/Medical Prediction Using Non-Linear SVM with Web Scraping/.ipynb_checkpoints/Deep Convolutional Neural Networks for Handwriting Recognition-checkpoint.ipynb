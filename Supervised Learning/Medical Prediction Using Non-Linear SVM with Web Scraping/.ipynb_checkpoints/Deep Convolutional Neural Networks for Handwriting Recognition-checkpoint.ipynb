{
 "cells": [
  {
   "cell_type": "markdown",
   "metadata": {},
   "source": [
    "# Deep Convolutional Neural Networks for Handwriting Recognition\n",
    "#### Author: Miguel Martinez"
   ]
  },
  {
   "cell_type": "markdown",
   "metadata": {},
   "source": [
    "## Libraries to install:"
   ]
  },
  {
   "cell_type": "code",
   "execution_count": 1,
   "metadata": {
    "collapsed": true
   },
   "outputs": [],
   "source": [
    "# Libraries to install:\n",
    "# Lasagne (latest update: https://github.com/Lasagne/Lasagne/archive/master.zip)\n",
    "# Theano (latest update: https://github.com/Theano/Theano/archive/master.zip)\n",
    "# nolearn\n",
    "\n",
    "# pip installs\n",
    "# pip install nolearn\n",
    "# pip install Lasagne==0.1\n",
    "# pip install -r https://raw.githubusercontent.com/Lasagne/Lasagne/v0.1/requirements.txt\n",
    "# pip install --upgrade https://github.com/Theano/Theano/archive/master.zip\n",
    "# pip install --upgrade https://github.com/Lasagne/Lasagne/archive/master.zip"
   ]
  },
  {
   "cell_type": "markdown",
   "metadata": {},
   "source": [
    "## Import the required modules (after installing them):"
   ]
  },
  {
   "cell_type": "code",
   "execution_count": 1,
   "metadata": {},
   "outputs": [
    {
     "name": "stdout",
     "output_type": "stream",
     "text": [
      "done importing: fetch_mldata\n",
      "done importing: matplotlib\n",
      "done importing: plt\n",
      "done importing: cm\n",
      "done importing: lasagne\n",
      "done importing: from lasagne import layers\n",
      "done importing: nesterov_momentum\n",
      "done importing: NeuralNet\n",
      "done importing: visualize\n",
      "im done.\n"
     ]
    },
    {
     "name": "stderr",
     "output_type": "stream",
     "text": [
      "/home/ghost/anaconda3/lib/python3.6/site-packages/sklearn/cross_validation.py:44: DeprecationWarning: This module was deprecated in version 0.18 in favor of the model_selection module into which all the refactored classes and functions are moved. Also note that the interface of the new CV iterators are different from that of this module. This module will be removed in 0.20.\n",
      "  \"This module will be removed in 0.20.\", DeprecationWarning)\n"
     ]
    }
   ],
   "source": [
    "# import the necessary packages\n",
    "from sklearn.datasets import fetch_mldata\n",
    "\n",
    "print('done importing: fetch_mldata')\n",
    "import matplotlib\n",
    "print('done importing: matplotlib')\n",
    "import matplotlib.pyplot as plt\n",
    "print('done importing: plt')\n",
    "import matplotlib.cm as cm\n",
    "print('done importing: cm')\n",
    "import lasagne\n",
    "print('done importing: lasagne')\n",
    "from lasagne import layers\n",
    "print('done importing: from lasagne import layers')\n",
    "from lasagne.updates import nesterov_momentum\n",
    "print('done importing: nesterov_momentum')\n",
    "from nolearn.lasagne import NeuralNet\n",
    "print('done importing: NeuralNet')\n",
    "from nolearn.lasagne import visualize\n",
    "print('done importing: visualize')\n",
    "\n",
    "#############################################################\n",
    "## import any other modules that you may need (the ddep learning modules have been already imported above)\n",
    "\n",
    "print (\"im done.\")\n",
    "\n",
    "\n",
    "\n"
   ]
  },
  {
   "cell_type": "markdown",
   "metadata": {},
   "source": [
    "## The MNIST database (Modified National Institute of Standards and Technology database) is a large database of handwritten digits including 70,000 images of size 28x28."
   ]
  },
  {
   "cell_type": "code",
   "execution_count": 2,
   "metadata": {
    "scrolled": false
   },
   "outputs": [],
   "source": [
    "# downlading the MNIST dataset (it may take afew minutes -- the 55mb MNIST digit dataset will be downloaded)\n",
    "# ataset = fetch_mldata(\"MNIST Original\", data_home='~/scikit_learn_data/mldata')\n",
    "dataset = fetch_mldata('MNIST Original', data_home='data4')\n"
   ]
  },
  {
   "cell_type": "code",
   "execution_count": 3,
   "metadata": {},
   "outputs": [
    {
     "name": "stdout",
     "output_type": "stream",
     "text": [
      "(70000, 1, 28, 28)\n",
      "(70000,)\n",
      "im done.\n"
     ]
    }
   ],
   "source": [
    "# Feature Table:\n",
    "X = dataset.data.reshape(70000, 1, 28, 28)\n",
    "X = X/255 # move to range of [0,1]\n",
    "\n",
    "# Label:\n",
    "y = dataset.target.astype(\"int32\")\n",
    "print(X.shape)\n",
    "print(y.shape)\n",
    "print (\"im done.\")"
   ]
  },
  {
   "cell_type": "code",
   "execution_count": 4,
   "metadata": {},
   "outputs": [
    {
     "data": {
      "image/png": "[encoded data removed]",
      "text/plain": [
       "<matplotlib.figure.Figure at 0x7f5118472780>"
      ]
     },
     "metadata": {},
     "output_type": "display_data"
    },
    {
     "data": {
      "image/png": "[encoded data removed]",
      "text/plain": [
       "<matplotlib.figure.Figure at 0x7f511e2bc7b8>"
      ]
     },
     "metadata": {},
     "output_type": "display_data"
    },
    {
     "name": "stdout",
     "output_type": "stream",
     "text": [
      "im done.\n"
     ]
    }
   ],
   "source": [
    "# Some samples:\n",
    "plt.imshow(X[0,0,:,:],cmap=plt.cm.gray_r, interpolation='nearest')\n",
    "plt.show()\n",
    "plt.imshow(X[20000,0,:,:],cmap=plt.cm.gray_r, interpolation='nearest')\n",
    "plt.show()\n",
    "print (\"im done.\")"
   ]
  },
  {
   "cell_type": "code",
   "execution_count": 5,
   "metadata": {},
   "outputs": [
    {
     "name": "stdout",
     "output_type": "stream",
     "text": [
      "im done.\n"
     ]
    }
   ],
   "source": [
    "#############################################################\n",
    "# Split X and y into testing and traning with 20% as testing and random_state = 0:\n",
    "\n",
    "from sklearn.model_selection import train_test_split\n",
    "\n",
    "# train test split\n",
    "X_train, X_test, y_train, y_test = train_test_split(X, y, test_size=0.2, random_state=0)\n",
    "\n",
    "\n",
    "print (\"im done.\")\n"
   ]
  },
  {
   "cell_type": "markdown",
   "metadata": {},
   "source": [
    "## Defining the parameters of your Convolutional Neural Network (the number of layers):\n",
    "Our ConvNet includes an input layer, one convolutional layers with ReLU for feature extraction, one pooling layers for dimensionality reduction, a fully connected layer (dense layer) for classification, and finally the output layer. It also include two dropout layers for regularization (cut some of the connections) to avoid overfitting."
   ]
  },
  {
   "cell_type": "code",
   "execution_count": 6,
   "metadata": {},
   "outputs": [
    {
     "name": "stdout",
     "output_type": "stream",
     "text": [
      "im done.\n"
     ]
    }
   ],
   "source": [
    "# Defining the parameters of your Convolutional Neural Network:\n",
    "# Our ConvNet includes an input layer, one convolutional layers with ReLU for feature extraction, \n",
    "# one pooling layers for dimensionality reduction, a fully connected layer (dense layer) for classification, \n",
    "# and finally the output layer. It also include two dropout layers for regularization (cut some of the connections) \n",
    "# to avoid overfitting.\n",
    "\n",
    "my_ConvNet = NeuralNet(\n",
    "    layers=[('input', layers.InputLayer),\n",
    "            ('convLayer1', layers.Conv2DLayer),\n",
    "            ('poolingLayer1', layers.MaxPool2DLayer),\n",
    "            ('dropout1', layers.DropoutLayer),\n",
    "            ('dense', layers.DenseLayer),\n",
    "            ('dropout2', layers.DropoutLayer),\n",
    "            ('output', layers.DenseLayer),\n",
    "            ],\n",
    "    \n",
    "    # input layer\n",
    "    input_shape=(None, 1, 28, 28),\n",
    "    \n",
    "    # convLayer1\n",
    "    convLayer1_num_filters=16,\n",
    "    convLayer1_filter_size=(5, 5),\n",
    "    convLayer1_nonlinearity = lasagne.nonlinearities.rectify,\n",
    "    convLayer1_W = lasagne.init.GlorotUniform(),  \n",
    "   \n",
    "    # poolingLayer1\n",
    "    poolingLayer1_pool_size=(6, 6),    \n",
    "    \n",
    "    # dropout1\n",
    "    dropout1_p=0.5,    \n",
    "    \n",
    "    # dense\n",
    "    dense_num_units=256,\n",
    "    dense_nonlinearity=lasagne.nonlinearities.rectify,    \n",
    "    \n",
    "    # dropout2\n",
    "    dropout2_p=0.5,    \n",
    "    \n",
    "    # output\n",
    "    output_nonlinearity=lasagne.nonlinearities.softmax,\n",
    "    output_num_units=10,\n",
    "    \n",
    "    # optimization method params\n",
    "    update=nesterov_momentum,\n",
    "    update_learning_rate=0.01,\n",
    "    update_momentum=0.9,\n",
    "    max_epochs=10,\n",
    "    verbose=1,\n",
    "    )\n",
    "\n",
    "print (\"im done.\")"
   ]
  },
  {
   "cell_type": "markdown",
   "metadata": {},
   "source": [
    "## Trainig your ConvNet on the Traning Set:\n",
    "### It takes a few minutes."
   ]
  },
  {
   "cell_type": "code",
   "execution_count": 8,
   "metadata": {},
   "outputs": [
    {
     "name": "stdout",
     "output_type": "stream",
     "text": [
      "# Neural Network with 68778 learnable parameters\n",
      "\n",
      "## Layer information\n",
      "\n",
      "  #  name           size\n",
      "---  -------------  --------\n",
      "  0  input          1x28x28\n",
      "  1  convLayer1     16x24x24\n",
      "  2  poolingLayer1  16x4x4\n",
      "  3  dropout1       16x4x4\n",
      "  4  dense          256\n",
      "  5  dropout2       256\n",
      "  6  output         10\n",
      "\n",
      "  epoch    trn loss    val loss    trn/val    valid acc  dur\n",
      "-------  ----------  ----------  ---------  -----------  ------\n",
      "      1     \u001b[36m1.26240\u001b[0m     \u001b[32m0.26630\u001b[0m    4.74049      0.93154  38.09s\n",
      "      2     \u001b[36m0.53199\u001b[0m     \u001b[32m0.18268\u001b[0m    2.91221      0.95252  37.00s\n",
      "      3     \u001b[36m0.42383\u001b[0m     \u001b[32m0.14578\u001b[0m    2.90725      0.96091  36.96s\n",
      "      4     \u001b[36m0.36732\u001b[0m     \u001b[32m0.13045\u001b[0m    2.81588      0.96314  36.89s\n",
      "      5     \u001b[36m0.33950\u001b[0m     \u001b[32m0.12569\u001b[0m    2.70112      0.96501  36.84s\n",
      "      6     \u001b[36m0.31657\u001b[0m     \u001b[32m0.11183\u001b[0m    2.83086      0.96858  36.80s\n",
      "      7     \u001b[36m0.30530\u001b[0m     \u001b[32m0.10924\u001b[0m    2.79465      0.97064  36.97s\n",
      "      8     \u001b[36m0.29821\u001b[0m     \u001b[32m0.10705\u001b[0m    2.78570      0.97001  36.69s\n",
      "      9     \u001b[36m0.28501\u001b[0m     \u001b[32m0.10122\u001b[0m    2.81564      0.97233  36.91s\n",
      "     10     \u001b[36m0.27810\u001b[0m     \u001b[32m0.09574\u001b[0m    2.90480      0.97215  36.85s\n",
      "im done.\n"
     ]
    }
   ],
   "source": [
    "# Train the network\n",
    "### It takes a few minutes!\n",
    "my_ConvNet.fit(X_train, y_train)\n",
    "\n",
    "print (\"im done.\")"
   ]
  },
  {
   "cell_type": "code",
   "execution_count": 9,
   "metadata": {},
   "outputs": [
    {
     "name": "stdout",
     "output_type": "stream",
     "text": [
      "0.972642857143\n",
      "im done.\n"
     ]
    }
   ],
   "source": [
    "#############################################################\n",
    "# test the trained model above, check the accuracy, and print it.\n",
    "\n",
    "from sklearn.metrics import accuracy_score\n",
    "\n",
    "my_y_predict = my_ConvNet.predict(X_test)\n",
    "\n",
    "my_score = accuracy_score(y_test, my_y_predict)\n",
    "\n",
    "print(my_score)\n",
    "\n",
    "print (\"im done.\")\n",
    "\n",
    "\n"
   ]
  },
  {
   "cell_type": "markdown",
   "metadata": {},
   "source": [
    "## New ConvNet:"
   ]
  },
  {
   "cell_type": "code",
   "execution_count": 12,
   "metadata": {},
   "outputs": [
    {
     "name": "stdout",
     "output_type": "stream",
     "text": [
      "im done.\n"
     ]
    }
   ],
   "source": [
    "#############################################################\n",
    "# Now design a new ConvNet with the following specifications:\n",
    "# 2 convolutional layers: first one with 32 filters, second one with 16 filter with filter size: (5,5)\n",
    "# 2 pooling layers (one pooling layer after each conv layer) with pool_size: (2,2)\n",
    "# other parameters same as above\n",
    "\n",
    "new_ConvNet = NeuralNet(\n",
    "    layers=[('input', layers.InputLayer),\n",
    "            ('convLayer1', layers.Conv2DLayer),\n",
    "            ('poolingLayer1', layers.MaxPool2DLayer),\n",
    "            ('convLayer2', layers.Conv2DLayer),\n",
    "            ('poolingLayer2', layers.MaxPool2DLayer),\n",
    "            ('dropout1', layers.DropoutLayer),\n",
    "            ('dense', layers.DenseLayer),\n",
    "            ('dropout2', layers.DropoutLayer),\n",
    "            ('output', layers.DenseLayer),\n",
    "            ],\n",
    "    \n",
    "    # input layer\n",
    "    input_shape=(None, 1, 28, 28),\n",
    "    \n",
    "    # convLayer1\n",
    "    convLayer1_num_filters=32,\n",
    "    convLayer1_filter_size=(5, 5),\n",
    "    convLayer1_nonlinearity = lasagne.nonlinearities.rectify,\n",
    "    convLayer1_W = lasagne.init.GlorotUniform(),  \n",
    "    \n",
    "    # poolingLayer1\n",
    "    poolingLayer1_pool_size=(2, 2),    \n",
    "    \n",
    "    # convLayer2\n",
    "    convLayer2_num_filters=16,\n",
    "    convLayer2_filter_size=(5, 5),\n",
    "    convLayer2_nonlinearity = lasagne.nonlinearities.rectify,\n",
    "    convLayer2_W = lasagne.init.GlorotUniform(), \n",
    "    \n",
    "    # poolingLayer2\n",
    "    poolingLayer2_pool_size=(2, 2),\n",
    "    \n",
    "    # dropout1\n",
    "    dropout1_p=0.5,    \n",
    "    \n",
    "    # dense\n",
    "    dense_num_units=256,\n",
    "    dense_nonlinearity=lasagne.nonlinearities.rectify,    \n",
    "    \n",
    "    # dropout2\n",
    "    dropout2_p=0.5,    \n",
    "    \n",
    "    # output\n",
    "    output_nonlinearity=lasagne.nonlinearities.softmax,\n",
    "    output_num_units=10,\n",
    "    \n",
    "    # optimization method params\n",
    "    update=nesterov_momentum,\n",
    "    update_learning_rate=0.01,\n",
    "    update_momentum=0.9,\n",
    "    max_epochs=10,\n",
    "    verbose=1,\n",
    "    )\n",
    "\n",
    "print (\"im done.\")"
   ]
  },
  {
   "cell_type": "code",
   "execution_count": 13,
   "metadata": {},
   "outputs": [
    {
     "name": "stdout",
     "output_type": "stream",
     "text": [
      "# Neural Network with 82010 learnable parameters\n",
      "\n",
      "## Layer information\n",
      "\n",
      "  #  name           size\n",
      "---  -------------  --------\n",
      "  0  input          1x28x28\n",
      "  1  convLayer1     32x24x24\n",
      "  2  poolingLayer1  32x12x12\n",
      "  3  convLayer2     16x8x8\n",
      "  4  poolingLayer2  16x4x4\n",
      "  5  dropout1       16x4x4\n",
      "  6  dense          256\n",
      "  7  dropout2       256\n",
      "  8  output         10\n",
      "\n",
      "  epoch    trn loss    val loss    trn/val    valid acc  dur\n",
      "-------  ----------  ----------  ---------  -----------  -------\n",
      "      1     \u001b[36m0.85765\u001b[0m     \u001b[32m0.18084\u001b[0m    4.74268      0.94654  196.45s\n",
      "      2     \u001b[36m0.29749\u001b[0m     \u001b[32m0.12598\u001b[0m    2.36151      0.96207  201.93s\n",
      "      3     \u001b[36m0.22176\u001b[0m     \u001b[32m0.09778\u001b[0m    2.26809      0.97108  205.26s\n",
      "      4     \u001b[36m0.17918\u001b[0m     \u001b[32m0.07875\u001b[0m    2.27525      0.97581  208.12s\n",
      "      5     \u001b[36m0.15724\u001b[0m     \u001b[32m0.06983\u001b[0m    2.25186      0.97831  204.91s\n",
      "      6     \u001b[36m0.14527\u001b[0m     \u001b[32m0.06396\u001b[0m    2.27141      0.97983  204.48s\n",
      "      7     \u001b[36m0.12969\u001b[0m     \u001b[32m0.05659\u001b[0m    2.29179      0.98179  203.16s\n",
      "      8     \u001b[36m0.12163\u001b[0m     \u001b[32m0.05553\u001b[0m    2.19028      0.98215  202.03s\n",
      "      9     \u001b[36m0.11181\u001b[0m     \u001b[32m0.05131\u001b[0m    2.17931      0.98340  202.69s\n",
      "     10     \u001b[36m0.10661\u001b[0m     \u001b[32m0.04688\u001b[0m    2.27405      0.98492  206.75s\n",
      "im done.\n"
     ]
    }
   ],
   "source": [
    "#############################################################\n",
    "# train your new ConvNet.\n",
    "\n",
    "new_ConvNet.fit(X_train, y_train)\n",
    "print (\"im done.\")\n"
   ]
  },
  {
   "cell_type": "code",
   "execution_count": 14,
   "metadata": {},
   "outputs": [
    {
     "name": "stdout",
     "output_type": "stream",
     "text": [
      "0.986142857143\n",
      "im done.\n"
     ]
    }
   ],
   "source": [
    "#############################################################\n",
    "# test the trained model above, check the accuracy, and print it.\n",
    "\n",
    "from sklearn.metrics import accuracy_score\n",
    "\n",
    "new_y_predict = new_ConvNet.predict(X_test)\n",
    "\n",
    "new_score = accuracy_score(y_test, new_y_predict)\n",
    "\n",
    "print(new_score)\n",
    "\n",
    "print (\"im done.\")\n",
    "\n"
   ]
  }
 ],
 "metadata": {
  "kernelspec": {
   "display_name": "Python 3",
   "language": "python",
   "name": "python3"
  },
  "language_info": {
   "codemirror_mode": {
    "name": "ipython",
    "version": 3
   },
   "file_extension": ".py",
   "mimetype": "text/x-python",
   "name": "python",
   "nbconvert_exporter": "python",
   "pygments_lexer": "ipython3",
   "version": "3.6.2"
  }
 },
 "nbformat": 4,
 "nbformat_minor": 2
}
