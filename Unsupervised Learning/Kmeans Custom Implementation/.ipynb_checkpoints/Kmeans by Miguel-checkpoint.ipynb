{
 "cells": [
  {
   "cell_type": "markdown",
   "metadata": {},
   "source": [
    "# Implement Kmeans from scratch\n",
    "#### Author: Miguel Martinez"
   ]
  },
  {
   "cell_type": "code",
   "execution_count": 111,
   "metadata": {
    "collapsed": true
   },
   "outputs": [],
   "source": [
    "import numpy as np\n",
    "import pandas as pd\n",
    "\n",
    "# to scale\n",
    "from sklearn import preprocessing\n",
    "\n",
    "# to bring in current working directory dynamically\n",
    "import os\n"
   ]
  },
  {
   "cell_type": "code",
   "execution_count": 112,
   "metadata": {
    "collapsed": true
   },
   "outputs": [],
   "source": [
    "def kmeans(df, n_clusters=5, n_init=50):\n",
    "    print(\"do nothing\")"
   ]
  },
  {
   "cell_type": "code",
   "execution_count": 113,
   "metadata": {},
   "outputs": [],
   "source": [
    "# read in the data\n",
    "cwd = os.getcwd()\n",
    "iris_df = pd.read_csv(cwd + \"/iris.csv\")"
   ]
  },
  {
   "cell_type": "code",
   "execution_count": 114,
   "metadata": {},
   "outputs": [
    {
     "data": {
      "text/html": [
       "<div>\n",
       "<table border=\"1\" class=\"dataframe\">\n",
       "  <thead>\n",
       "    <tr style=\"text-align: right;\">\n",
       "      <th></th>\n",
       "      <th>Unnamed: 0</th>\n",
       "      <th>sepal_length</th>\n",
       "      <th>sepal_width</th>\n",
       "      <th>petal_length</th>\n",
       "      <th>petal_width</th>\n",
       "      <th>species</th>\n",
       "    </tr>\n",
       "  </thead>\n",
       "  <tbody>\n",
       "    <tr>\n",
       "      <th>0</th>\n",
       "      <td>0</td>\n",
       "      <td>5.1</td>\n",
       "      <td>3.5</td>\n",
       "      <td>1.4</td>\n",
       "      <td>0.2</td>\n",
       "      <td>setosa</td>\n",
       "    </tr>\n",
       "    <tr>\n",
       "      <th>1</th>\n",
       "      <td>1</td>\n",
       "      <td>4.9</td>\n",
       "      <td>3.0</td>\n",
       "      <td>1.4</td>\n",
       "      <td>0.2</td>\n",
       "      <td>setosa</td>\n",
       "    </tr>\n",
       "    <tr>\n",
       "      <th>2</th>\n",
       "      <td>2</td>\n",
       "      <td>4.7</td>\n",
       "      <td>3.2</td>\n",
       "      <td>1.3</td>\n",
       "      <td>0.2</td>\n",
       "      <td>setosa</td>\n",
       "    </tr>\n",
       "    <tr>\n",
       "      <th>3</th>\n",
       "      <td>3</td>\n",
       "      <td>4.6</td>\n",
       "      <td>3.1</td>\n",
       "      <td>1.5</td>\n",
       "      <td>0.2</td>\n",
       "      <td>setosa</td>\n",
       "    </tr>\n",
       "    <tr>\n",
       "      <th>4</th>\n",
       "      <td>4</td>\n",
       "      <td>5.0</td>\n",
       "      <td>3.6</td>\n",
       "      <td>1.4</td>\n",
       "      <td>0.2</td>\n",
       "      <td>setosa</td>\n",
       "    </tr>\n",
       "  </tbody>\n",
       "</table>\n",
       "</div>"
      ],
      "text/plain": [
       "   Unnamed: 0  sepal_length  sepal_width  petal_length  petal_width species\n",
       "0           0           5.1          3.5           1.4          0.2  setosa\n",
       "1           1           4.9          3.0           1.4          0.2  setosa\n",
       "2           2           4.7          3.2           1.3          0.2  setosa\n",
       "3           3           4.6          3.1           1.5          0.2  setosa\n",
       "4           4           5.0          3.6           1.4          0.2  setosa"
      ]
     },
     "execution_count": 114,
     "metadata": {},
     "output_type": "execute_result"
    }
   ],
   "source": [
    "iris_df.head()"
   ]
  },
  {
   "cell_type": "code",
   "execution_count": 115,
   "metadata": {},
   "outputs": [],
   "source": [
    "features = ['sepal_length', 'sepal_width', 'petal_width', 'petal_width']\n",
    "feature_cols = ['sepal_length','petal_width']\n",
    "X = iris_df[feature_cols]"
   ]
  },
  {
   "cell_type": "code",
   "execution_count": 116,
   "metadata": {},
   "outputs": [],
   "source": [
    "# set vars for kmeans\n",
    "n_clusters = 3\n",
    "n_init = 50\n",
    "\n",
    "# scale with zero means and unit standard deviation\n",
    "X = pd.DataFrame(preprocessing.scale(X), index = X.index, columns = X.columns)\n",
    "\n",
    "numFeatures = X.shape[1]\n",
    "numSamples = X.shape[0]"
   ]
  },
  {
   "cell_type": "code",
   "execution_count": 117,
   "metadata": {},
   "outputs": [
    {
     "data": {
      "text/html": [
       "<div>\n",
       "<table border=\"1\" class=\"dataframe\">\n",
       "  <thead>\n",
       "    <tr style=\"text-align: right;\">\n",
       "      <th></th>\n",
       "      <th>sepal_length</th>\n",
       "      <th>petal_width</th>\n",
       "    </tr>\n",
       "  </thead>\n",
       "  <tbody>\n",
       "    <tr>\n",
       "      <th>0</th>\n",
       "      <td>-0.900681</td>\n",
       "      <td>-1.312977</td>\n",
       "    </tr>\n",
       "    <tr>\n",
       "      <th>1</th>\n",
       "      <td>-1.143017</td>\n",
       "      <td>-1.312977</td>\n",
       "    </tr>\n",
       "    <tr>\n",
       "      <th>2</th>\n",
       "      <td>-1.385353</td>\n",
       "      <td>-1.312977</td>\n",
       "    </tr>\n",
       "    <tr>\n",
       "      <th>3</th>\n",
       "      <td>-1.506521</td>\n",
       "      <td>-1.312977</td>\n",
       "    </tr>\n",
       "    <tr>\n",
       "      <th>4</th>\n",
       "      <td>-1.021849</td>\n",
       "      <td>-1.312977</td>\n",
       "    </tr>\n",
       "  </tbody>\n",
       "</table>\n",
       "</div>"
      ],
      "text/plain": [
       "   sepal_length  petal_width\n",
       "0     -0.900681    -1.312977\n",
       "1     -1.143017    -1.312977\n",
       "2     -1.385353    -1.312977\n",
       "3     -1.506521    -1.312977\n",
       "4     -1.021849    -1.312977"
      ]
     },
     "execution_count": 117,
     "metadata": {},
     "output_type": "execute_result"
    }
   ],
   "source": [
    "X.head()"
   ]
  },
  {
   "cell_type": "code",
   "execution_count": 118,
   "metadata": {},
   "outputs": [
    {
     "name": "stdout",
     "output_type": "stream",
     "text": [
      "first run with cost= 1.71788457886\n",
      "better run on: 1 with cost= 1.58506447921\n",
      "better run on: 10 with cost= 1.54930999029\n",
      "better run on: 32 with cost= 1.482747484\n",
      "better run on: 40 with cost= 1.34579790833\n",
      "best cost is 1.34579790833 with centroids:\n",
      "[[ 0.11669255  0.73662438  0.05043678]\n",
      " [ 0.53038291  0.85142041  0.06206759]]\n",
      "complete\n"
     ]
    }
   ],
   "source": [
    "# step 0 - initialization\n",
    "globalInitLowestCost = 0.0\n",
    "globalInitLowestInitilizations = [0] * numFeatures\n",
    "centroids = np.zeros([numFeatures, n_clusters])\n",
    "\n",
    "# iterate through the number of initializations\n",
    "for i in range(0, n_init):\n",
    "    \n",
    "    # generate random centroids\n",
    "    centroids = np.random.rand(numFeatures, n_clusters)\n",
    "    centroidCosts = 0.0\n",
    "        \n",
    "    # create empty assignments numpy array\n",
    "    assignments = np.empty(numSamples)\n",
    "\n",
    "    for currSample in range(0, numSamples):\n",
    "        lowestCost = 0.0\n",
    "        bestCentroid = 0\n",
    "\n",
    "        # iterate through each centroid\n",
    "        for currCentroid in range(0, n_clusters):\n",
    "            centroidCosts = 0.0\n",
    "            sampleSum = 0.0\n",
    "            \n",
    "            #iterate through each feature\n",
    "            for currFeature in range(0,numFeatures):\n",
    "                diff = X.iloc[currSample, currFeature] - centroids[currFeature, currCentroid]\n",
    "                sampleSum += diff * diff\n",
    "\n",
    "            centroidCosts += sampleSum\n",
    "\n",
    "            if currCentroid == 0:\n",
    "                lowestCost = centroidCosts\n",
    "                bestCentroid = currCentroid\n",
    "            else:\n",
    "                if centroidCosts < lowestCost:\n",
    "                    lowestCost = centroidCosts\n",
    "                    bestCentroid = currCentroid\n",
    "\n",
    "        # assign best centroid\n",
    "        assignments[currSample] = bestCentroid\n",
    "\n",
    "    \n",
    "    centroidCosts = np.zeros([1, n_clusters])\n",
    "    \n",
    "    #compute cost for each centroid\n",
    "    for currCentroid in range(0, n_clusters):\n",
    "        for currSample in range(0, numSamples): \n",
    "            if(currCentroid == assignments[currSample]):\n",
    "                for currFeature in range(0, numFeatures):\n",
    "                    diff = X.iloc[currSample, currFeature] - centroids[currFeature, currCentroid]\n",
    "                    centroidCosts[0,currCentroid] += diff * diff\n",
    "                    \n",
    "    \n",
    "    #sum up costs for all centroids in this initialization\n",
    "    initTotalCost = centroidCosts.sum() / numSamples\n",
    "    \n",
    "              \n",
    "    if i == 0:\n",
    "        globalInitLowestCost = initTotalCost\n",
    "        globalInitLowestInitilizations = centroids\n",
    "        #print(\"first run\")\n",
    "        print(\"first run with cost=\", globalInitLowestCost)\n",
    "    else:\n",
    "        if initTotalCost < globalInitLowestCost:\n",
    "            globalInitLowestCost = initTotalCost\n",
    "            globalInitLowestInitilizations = centroids\n",
    "            print(\"better run on:\", i, \"with cost=\", globalInitLowestCost)\n",
    "        \n",
    "        \n",
    "print(\"best cost is\", globalInitLowestCost, \"with centroids:\")\n",
    "print(globalInitLowestInitilizations)\n",
    "\n",
    "\n",
    "# M = samples\n",
    "# D = number of features\n",
    "# k = output clusters\n",
    "print(\"complete\")"
   ]
  },
  {
   "cell_type": "code",
   "execution_count": 119,
   "metadata": {
    "scrolled": true
   },
   "outputs": [
    {
     "name": "stdout",
     "output_type": "stream",
     "text": [
      "centroids will move!\n",
      "centroids will move!\n",
      "centroids will move!\n",
      "centroids will move!\n",
      "centroids will move!\n",
      "centroids will move!\n",
      "[ 2.  2.  2.  2.  2.  2.  2.  2.  2.  2.  2.  2.  2.  2.  2.  2.  2.  2.\n",
      "  2.  2.  2.  2.  2.  2.  2.  2.  2.  2.  2.  2.  2.  2.  2.  2.  2.  2.\n",
      "  2.  2.  2.  2.  2.  2.  2.  2.  2.  2.  2.  2.  2.  2.  1.  0.  1.  0.\n",
      "  0.  0.  0.  2.  0.  0.  2.  0.  0.  0.  0.  1.  0.  0.  0.  0.  0.  0.\n",
      "  0.  0.  0.  0.  1.  1.  0.  0.  0.  0.  0.  0.  0.  0.  1.  0.  0.  0.\n",
      "  0.  0.  0.  2.  0.  0.  0.  0.  2.  0.  1.  0.  1.  0.  1.  1.  0.  1.\n",
      "  1.  1.  1.  1.  1.  0.  0.  1.  1.  1.  1.  0.  1.  0.  1.  0.  1.  1.\n",
      "  0.  0.  1.  1.  1.  1.  1.  0.  0.  1.  1.  1.  0.  1.  1.  1.  0.  1.\n",
      "  1.  1.  1.  1.  1.  0.]\n"
     ]
    }
   ],
   "source": [
    "centroidsMoved = True\n",
    "\n",
    "while centroidsMoved:\n",
    "    # step 1, cluster assignment \n",
    "\n",
    "    # create empty assignments numpy array\n",
    "    assignments = np.empty(numSamples)\n",
    "\n",
    "    for currSample in range(0, numSamples):\n",
    "        lowestCost = 0.0\n",
    "        bestCentroid = 0\n",
    "\n",
    "        # iterate through each centroid\n",
    "        for currCentroid in range(0, n_clusters):\n",
    "            centroidCosts = 0.0\n",
    "            sampleSum = 0.0\n",
    "            #iterate through each feature\n",
    "            for currFeature in range(0,numFeatures):\n",
    "                diff = X.iloc[currSample, currFeature] - centroids[currFeature, currCentroid]\n",
    "                sampleSum += diff * diff\n",
    "\n",
    "            centroidCosts += sampleSum\n",
    "\n",
    "            if currCentroid == 0:\n",
    "                lowestCost = centroidCosts\n",
    "                bestCentroid = currCentroid\n",
    "            else:\n",
    "                if centroidCosts < lowestCost:\n",
    "                    lowestCost = centroidCosts\n",
    "                    bestCentroid = currCentroid\n",
    "\n",
    "        # assign best centroid\n",
    "        assignments[currSample] = bestCentroid\n",
    "\n",
    "\n",
    "    #print(assignments)\n",
    "\n",
    "    # Step 2 - centroid move\n",
    "\n",
    "    # create counts and sums arrays\n",
    "    counts = np.zeros([1, n_clusters])\n",
    "    sums = np.zeros([numFeatures ,n_clusters])\n",
    "    tempCentroids = np.zeros([numFeatures ,n_clusters])\n",
    "\n",
    "    for i in range(0, numSamples):\n",
    "        currAssignment = int(assignments[i])\n",
    "\n",
    "        # increment count\n",
    "        counts[0, currAssignment] = counts[0, currAssignment] + 1\n",
    "\n",
    "        #get sums\n",
    "        for currFeature in range(0, numFeatures):\n",
    "            sums[currFeature, currAssignment] = sums[currFeature, currAssignment] + X.iloc[i, currFeature]\n",
    "\n",
    "    # get the average\n",
    "    for currCentroid in range(0, n_clusters):\n",
    "        for currFeature in range(0, numFeatures):\n",
    "            tempCentroids[currFeature, currCentroid] = sums[currFeature, currCentroid] / counts[0,currCentroid]\n",
    "    #print(tempCentroids)\n",
    "\n",
    "    if np.array_equal(centroids, tempCentroids) == False:\n",
    "        print(\"centroids will move!\")\n",
    "        centroids = tempCentroids\n",
    "    else:\n",
    "        centroidsMoved = False\n",
    "    \n",
    "print(assignments)"
   ]
  },
  {
   "cell_type": "code",
   "execution_count": 120,
   "metadata": {},
   "outputs": [
    {
     "data": {
      "text/plain": [
       "array([[ 0.07527095,  1.23601079, -1.01511749],\n",
       "       [ 0.34597311,  1.08880997, -1.17906907]])"
      ]
     },
     "execution_count": 120,
     "metadata": {},
     "output_type": "execute_result"
    }
   ],
   "source": [
    "centroids"
   ]
  },
  {
   "cell_type": "code",
   "execution_count": 121,
   "metadata": {},
   "outputs": [],
   "source": [
    "#print(iris_df['species'], assignments)\n",
    "\n",
    "#for i in range(0, numSamples):\n",
    "    #print(iris_df['species'][i], assignments[i])"
   ]
  },
  {
   "cell_type": "code",
   "execution_count": 122,
   "metadata": {},
   "outputs": [
    {
     "data": {
      "text/plain": [
       "<function matplotlib.pyplot.show>"
      ]
     },
     "execution_count": 122,
     "metadata": {},
     "output_type": "execute_result"
    },
    {
     "data": {
      "image/png": "[encoded data removed]",
      "text/plain": [
       "<matplotlib.figure.Figure at 0x1ebce9acf60>"
      ]
     },
     "metadata": {},
     "output_type": "display_data"
    }
   ],
   "source": [
    "import matplotlib.pyplot as plt\n",
    "# The following line will tell Jupyter Notebook to keep the figures inside the explorer page \n",
    "%matplotlib inline\n",
    "\n",
    "\n",
    "# Assigned Labels after clustering: \n",
    "labels = assignments\n",
    "\n",
    "# Centers of the clusters:\n",
    "centers = np.swapaxes(centroids,0,1)\n",
    "\n",
    "# Plotting the results:\n",
    "plt.figure\n",
    "\n",
    "for l, c in zip([0,1,2], ['red', 'blue', 'green']):\n",
    "    \n",
    "    current_members = (labels == l)\n",
    "    current_center = centers[l]\n",
    "    \n",
    "    plt.scatter(X.iloc[current_members,0], X.iloc[current_members,1], color = c, marker='x')\n",
    "    \n",
    "    plt.plot(current_center[0], current_center[1], 'o', markerfacecolor = c,\n",
    "            markeredgecolor = 'k', markersize=7)\n",
    "\n",
    "# Defining The Range of X-Axis and Y-Axis:\n",
    "plt.xlim([-3, 3])\n",
    "plt.ylim([-3, 3])\n",
    "\n",
    "# Labels, Title, Legend:\n",
    "plt.xlabel('sepal length')\n",
    "plt.ylabel('petal width')\n",
    "plt.title('KMeans for IRIS dataset')\n",
    "\n",
    "plt.show"
   ]
  },
  {
   "cell_type": "code",
   "execution_count": 123,
   "metadata": {},
   "outputs": [
    {
     "data": {
      "text/plain": [
       "(2, 3)"
      ]
     },
     "execution_count": 123,
     "metadata": {},
     "output_type": "execute_result"
    }
   ],
   "source": [
    "centroids.shape"
   ]
  },
  {
   "cell_type": "code",
   "execution_count": 124,
   "metadata": {},
   "outputs": [
    {
     "data": {
      "text/plain": [
       "(3, 2)"
      ]
     },
     "execution_count": 124,
     "metadata": {},
     "output_type": "execute_result"
    }
   ],
   "source": [
    "np.swapaxes(centroids,0,1).shape"
   ]
  }
 ],
 "metadata": {
  "anaconda-cloud": {},
  "kernelspec": {
   "display_name": "Python 3",
   "language": "python",
   "name": "python3"
  },
  "language_info": {
   "codemirror_mode": {
    "name": "ipython",
    "version": 3
   },
   "file_extension": ".py",
   "mimetype": "text/x-python",
   "name": "python",
   "nbconvert_exporter": "python",
   "pygments_lexer": "ipython3",
   "version": "3.6.2"
  }
 },
 "nbformat": 4,
 "nbformat_minor": 1
}
